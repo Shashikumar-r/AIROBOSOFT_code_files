{
  "cells": [
    {
      "cell_type": "markdown",
      "metadata": {
        "id": "OQp2s3pFsUlQ"
      },
      "source": [
        "### Modules and Packages"
      ]
    },
    {
      "cell_type": "code",
      "execution_count": 1,
      "metadata": {
        "id": "4V0dBSe9sUlf"
      },
      "outputs": [],
      "source": [
        "# import the library\n",
        "import math"
      ]
    },
    {
      "cell_type": "code",
      "execution_count": 3,
      "metadata": {
        "colab": {
          "base_uri": "https://localhost:8080/"
        },
        "id": "kyqDDRq5sUli",
        "outputId": "7f2c1393-3a50-4d4c-a1ac-3d68b91c88e3"
      },
      "outputs": [
        {
          "output_type": "execute_result",
          "data": {
            "text/plain": [
              "4"
            ]
          },
          "metadata": {},
          "execution_count": 3
        }
      ],
      "source": [
        "# use it (ceiling rounding)\n",
        "math.ceil(3.6)"
      ]
    },
    {
      "cell_type": "markdown",
      "metadata": {
        "id": "UZYle03_sUll"
      },
      "source": [
        "### Exploring built-in modules\n",
        "\n"
      ]
    },
    {
      "cell_type": "code",
      "execution_count": 2,
      "metadata": {
        "colab": {
          "base_uri": "https://localhost:8080/"
        },
        "id": "aJRnqjdxsUlm",
        "outputId": "cb896dc4-559a-4ae2-ff6f-4a8e2f63f578"
      },
      "outputs": [
        {
          "output_type": "stream",
          "name": "stdout",
          "text": [
            "['__doc__', '__loader__', '__name__', '__package__', '__spec__', 'acos', 'acosh', 'asin', 'asinh', 'atan', 'atan2', 'atanh', 'ceil', 'comb', 'copysign', 'cos', 'cosh', 'degrees', 'dist', 'e', 'erf', 'erfc', 'exp', 'expm1', 'fabs', 'factorial', 'floor', 'fmod', 'frexp', 'fsum', 'gamma', 'gcd', 'hypot', 'inf', 'isclose', 'isfinite', 'isinf', 'isnan', 'isqrt', 'lcm', 'ldexp', 'lgamma', 'log', 'log10', 'log1p', 'log2', 'modf', 'nan', 'nextafter', 'perm', 'pi', 'pow', 'prod', 'radians', 'remainder', 'sin', 'sinh', 'sqrt', 'tan', 'tanh', 'tau', 'trunc', 'ulp']\n"
          ]
        }
      ],
      "source": [
        "print(dir(math))"
      ]
    },
    {
      "cell_type": "code",
      "execution_count": 4,
      "metadata": {
        "colab": {
          "base_uri": "https://localhost:8080/"
        },
        "id": "aAXwWZgEsUlq",
        "outputId": "71c37271-9a47-4240-e0b8-7a7e52b63f48"
      },
      "outputs": [
        {
          "output_type": "stream",
          "name": "stdout",
          "text": [
            "Help on built-in function ceil in module math:\n",
            "\n",
            "ceil(x, /)\n",
            "    Return the ceiling of x as an Integral.\n",
            "    \n",
            "    This is the smallest integer >= x.\n",
            "\n"
          ]
        }
      ],
      "source": [
        "help(math.ceil)"
      ]
    },
    {
      "cell_type": "markdown",
      "metadata": {
        "id": "0Ap1E2IbsUlw"
      },
      "source": [
        "### Errors and Exception Handling\n"
      ]
    },
    {
      "cell_type": "code",
      "execution_count": 7,
      "metadata": {
        "colab": {
          "base_uri": "https://localhost:8080/",
          "height": 140
        },
        "id": "pKEqphA7sUlx",
        "outputId": "63dd780e-197a-4198-83ea-a9ac1b826542"
      },
      "outputs": [
        {
          "output_type": "error",
          "ename": "SyntaxError",
          "evalue": "ignored",
          "traceback": [
            "\u001b[0;36m  File \u001b[0;32m\"<ipython-input-7-03c1d8d45d8b>\"\u001b[0;36m, line \u001b[0;32m1\u001b[0m\n\u001b[0;31m    print('good morning)\u001b[0m\n\u001b[0m          ^\u001b[0m\n\u001b[0;31mSyntaxError\u001b[0m\u001b[0;31m:\u001b[0m unterminated string literal (detected at line 1)\n"
          ]
        }
      ],
      "source": [
        "print('good morning)"
      ]
    },
    {
      "cell_type": "markdown",
      "metadata": {
        "id": "ml0PFcbfsUly"
      },
      "source": [
        "### try and except\n"
      ]
    },
    {
      "cell_type": "code",
      "execution_count": 8,
      "metadata": {
        "colab": {
          "base_uri": "https://localhost:8080/"
        },
        "id": "clALNGY2sUly",
        "outputId": "bb04de1d-0087-4fa3-d28d-7b676aa85d85"
      },
      "outputs": [
        {
          "output_type": "stream",
          "name": "stdout",
          "text": [
            "Content written successfully\n"
          ]
        }
      ],
      "source": [
        "try:\n",
        "    f = open('my_file','w')\n",
        "    f.write('good_morning')\n",
        "except IOError:\n",
        "    # This will only check for an IOError exception and then execute this print statement\n",
        "   print(\"Error: Could not find file or read data\")\n",
        "else:\n",
        "   print(\"Content written successfully\")\n",
        "   f.close()"
      ]
    },
    {
      "cell_type": "code",
      "execution_count": 9,
      "metadata": {
        "colab": {
          "base_uri": "https://localhost:8080/"
        },
        "id": "7P7Vk0CcsUlz",
        "outputId": "54e77d8a-7629-4259-e87a-d34f2cd8c9c3"
      },
      "outputs": [
        {
          "output_type": "stream",
          "name": "stdout",
          "text": [
            "Error: Could not find file or read data\n"
          ]
        }
      ],
      "source": [
        "try:\n",
        "    f = open('testfile','r')\n",
        "    f.write('Test write this')\n",
        "except IOError:\n",
        "    # This will only check for an IOError exception and then execute this print statement\n",
        "   print(\"Error: Could not find file or read data\")\n",
        "else:\n",
        "   print(\"Content written successfully\")\n",
        "   f.close()"
      ]
    },
    {
      "cell_type": "markdown",
      "metadata": {
        "id": "_TTaC3k2sUmA"
      },
      "source": [
        "###finally\n"
      ]
    },
    {
      "cell_type": "code",
      "execution_count": 10,
      "metadata": {
        "colab": {
          "base_uri": "https://localhost:8080/"
        },
        "id": "iXX0u4nbsUmA",
        "outputId": "bb5aa566-c507-4d03-e845-f27073b3d2e7"
      },
      "outputs": [
        {
          "output_type": "stream",
          "name": "stdout",
          "text": [
            "Always execute finally code blocks\n"
          ]
        }
      ],
      "source": [
        "try:\n",
        "   f = open(\"testfile\", \"w\")\n",
        "   f.write(\"Test write statement\")\n",
        "finally:\n",
        "   print(\"Always execute finally code blocks\")"
      ]
    },
    {
      "cell_type": "code",
      "execution_count": 11,
      "metadata": {
        "id": "VZgKq8_9sUmB"
      },
      "outputs": [],
      "source": [
        "def check():\n",
        "        try:\n",
        "            val = int(input(\"enter an integer: \"))\n",
        "        except:\n",
        "            print(\"Looks like you did not enter an integer!\")\n",
        "\n",
        "        finally:\n",
        "            print(\"Finally, I executed!\")\n",
        "        print(val)"
      ]
    },
    {
      "cell_type": "code",
      "execution_count": 12,
      "metadata": {
        "colab": {
          "base_uri": "https://localhost:8080/"
        },
        "id": "WmEE4n_JsUmB",
        "outputId": "9c62b94e-2781-4845-a657-1239af884081"
      },
      "outputs": [
        {
          "output_type": "stream",
          "name": "stdout",
          "text": [
            "enter an integer: 5\n",
            "Finally, I executed!\n",
            "5\n"
          ]
        }
      ],
      "source": [
        "check()"
      ]
    },
    {
      "cell_type": "code",
      "execution_count": 13,
      "metadata": {
        "id": "EliaeDassUmC"
      },
      "outputs": [],
      "source": [
        "def check():\n",
        "        try:\n",
        "            val = int(input(\"Please enter an integer: \"))\n",
        "        except:\n",
        "            print(\"Looks like you did not enter an integer!\")\n",
        "            val = int(input(\"Try again-Please enter an integer: \"))\n",
        "        finally:\n",
        "            print(\"Finally, I executed!\")\n",
        "        print(val)"
      ]
    },
    {
      "cell_type": "code",
      "execution_count": 15,
      "metadata": {
        "colab": {
          "base_uri": "https://localhost:8080/"
        },
        "id": "rFOIm1DysUmC",
        "outputId": "11029236-7432-42f6-88ea-83c03d25ce8d"
      },
      "outputs": [
        {
          "output_type": "stream",
          "name": "stdout",
          "text": [
            "Please enter an integer: hello\n",
            "Looks like you did not enter an integer!\n",
            "Try again-Please enter an integer: 12\n",
            "Finally, I executed!\n",
            "12\n"
          ]
        }
      ],
      "source": [
        "check()"
      ]
    },
    {
      "cell_type": "code",
      "execution_count": 16,
      "metadata": {
        "id": "jMetBOX-sUmD"
      },
      "outputs": [],
      "source": [
        "def check():\n",
        "    while True:\n",
        "        try:\n",
        "            val = int(input(\"Please enter an integer: \"))\n",
        "        except:\n",
        "            print(\"Looks like you did not enter an integer!\")\n",
        "            continue\n",
        "        else:\n",
        "            print('Yep thats an integer!')\n",
        "            break\n",
        "        finally:\n",
        "            print(\"Finally, I executed!\")\n",
        "        print(val)"
      ]
    },
    {
      "cell_type": "code",
      "execution_count": 17,
      "metadata": {
        "scrolled": true,
        "colab": {
          "base_uri": "https://localhost:8080/"
        },
        "id": "UePxT5GAsUmD",
        "outputId": "7d25d015-405c-4b1f-d2c1-8467c989f948"
      },
      "outputs": [
        {
          "output_type": "stream",
          "name": "stdout",
          "text": [
            "Please enter an integer: 12\n",
            "Yep thats an integer!\n",
            "Finally, I executed!\n"
          ]
        }
      ],
      "source": [
        "check()"
      ]
    },
    {
      "cell_type": "markdown",
      "metadata": {
        "id": "YkeO75dTsUmE"
      },
      "source": [
        "### Database connectivity and operations using Python.\n"
      ]
    },
    {
      "cell_type": "code",
      "execution_count": 18,
      "metadata": {
        "colab": {
          "base_uri": "https://localhost:8080/"
        },
        "id": "0gInbk7CsUmE",
        "outputId": "ea717623-b75c-4a5b-e0dd-406bf505c5d6"
      },
      "outputs": [
        {
          "output_type": "execute_result",
          "data": {
            "text/plain": [
              "<sqlite3.Cursor at 0x789039923940>"
            ]
          },
          "metadata": {},
          "execution_count": 18
        }
      ],
      "source": [
        "#!/usr/bin/python\n",
        "\n",
        "import sqlite3\n",
        "#connecting with the database.\n",
        "\n",
        "db = sqlite3.connect(\"my_database1.db\")\n",
        "\n",
        "# Drop table if it already exist using execute() method.\n",
        "db.execute(\"drop table if exists grades1\")\n",
        "\n",
        "# Create table as per requirement\n",
        "db.execute(\"create table grades1(id int, name text, score int)\")\n",
        "\n",
        "#inserting values inside the created table\n",
        "db.execute(\"insert into grades1(id, name, score) values(101, 'John',99 )\")\n",
        "db.execute(\"insert into grades1(id, name, score) values(102, 'Gary',90 )\")\n",
        "db.execute(\"insert into grades1(id, name, score) values(103, 'James', 80 )\")\n",
        "db.execute(\"insert into grades1(id, name, score) values(104, 'Cathy', 85 )\")\n",
        "db.execute(\"insert into grades1(id, name, score) values(105, 'Kris',95 )\")\n"
      ]
    },
    {
      "cell_type": "code",
      "execution_count": 19,
      "metadata": {
        "id": "2VXnd5qgsUmE"
      },
      "outputs": [],
      "source": [
        "db.commit()\n"
      ]
    },
    {
      "cell_type": "code",
      "execution_count": 20,
      "metadata": {
        "colab": {
          "base_uri": "https://localhost:8080/"
        },
        "id": "KZCX-wnAsUmF",
        "outputId": "b0674561-8241-45a4-82a3-58b435a124f0"
      },
      "outputs": [
        {
          "output_type": "stream",
          "name": "stdout",
          "text": [
            "(101, 'John', 99)\n",
            "(102, 'Gary', 90)\n",
            "(103, 'James', 80)\n",
            "(104, 'Cathy', 85)\n",
            "(105, 'Kris', 95)\n",
            "------------------------------------------------------------\n"
          ]
        }
      ],
      "source": [
        "results = db.execute(\"select * from grades1 order by id\")\n",
        "for row in results:\n",
        "    print(row)\n",
        "print(\"-\" * 60 )"
      ]
    },
    {
      "cell_type": "code",
      "execution_count": 21,
      "metadata": {
        "colab": {
          "base_uri": "https://localhost:8080/"
        },
        "id": "-xeuwd9ssUmF",
        "outputId": "79b41577-5a08-4605-af31-b194254be321"
      },
      "outputs": [
        {
          "output_type": "stream",
          "name": "stdout",
          "text": [
            "(102, 'Gary', 90)\n",
            "------------------------------------------------------------\n"
          ]
        }
      ],
      "source": [
        "results = db.execute(\"select * from grades1 where name = 'Gary' \")\n",
        "for row in results:\n",
        "    print(row)\n",
        "print(\"-\" * 60 )"
      ]
    },
    {
      "cell_type": "code",
      "execution_count": 22,
      "metadata": {
        "colab": {
          "base_uri": "https://localhost:8080/"
        },
        "id": "Qmsp57XMsUmO",
        "outputId": "2eceff35-f983-43c4-f114-c01db92cbea4"
      },
      "outputs": [
        {
          "output_type": "stream",
          "name": "stdout",
          "text": [
            "(101, 'John', 99)\n",
            "(102, 'Gary', 90)\n",
            "(105, 'Kris', 95)\n",
            "------------------------------------------------------------\n"
          ]
        }
      ],
      "source": [
        "results = db.execute(\"select * from grades1 where score >= 90 \")\n",
        "for row in results:\n",
        "    print(row)\n",
        "print(\"-\" * 60 )"
      ]
    },
    {
      "cell_type": "code",
      "execution_count": 23,
      "metadata": {
        "colab": {
          "base_uri": "https://localhost:8080/"
        },
        "id": "GOkpkNPesUmP",
        "outputId": "3a3c7fc8-d858-4d35-b8cc-558f0d49000b"
      },
      "outputs": [
        {
          "output_type": "stream",
          "name": "stdout",
          "text": [
            "('John', 99)\n",
            "('Kris', 95)\n",
            "('Gary', 90)\n",
            "('Cathy', 85)\n",
            "('James', 80)\n",
            "------------------------------------------------------------\n"
          ]
        }
      ],
      "source": [
        "results = db.execute(\"select name, score from grades1 order by score desc \")\n",
        "for row in results:\n",
        "    print(row)\n",
        "print(\"-\" * 60 )"
      ]
    },
    {
      "cell_type": "code",
      "execution_count": 24,
      "metadata": {
        "colab": {
          "base_uri": "https://localhost:8080/"
        },
        "id": "3y8KN0bJsUmR",
        "outputId": "2bb18439-3f44-4977-8838-e8cd343fa8d6"
      },
      "outputs": [
        {
          "output_type": "stream",
          "name": "stdout",
          "text": [
            "('James', 80)\n",
            "('Cathy', 85)\n",
            "('Gary', 90)\n",
            "('Kris', 95)\n",
            "('John', 99)\n",
            "------------------------------------------------------------\n"
          ]
        }
      ],
      "source": [
        "results = db.execute(\"select name, score from grades1 order by score\")\n",
        "for row in results:\n",
        "    print(row)\n",
        "print(\"-\" * 60 )"
      ]
    },
    {
      "cell_type": "code",
      "execution_count": 25,
      "metadata": {
        "colab": {
          "base_uri": "https://localhost:8080/"
        },
        "id": "XsEKsup3sUmS",
        "outputId": "4577fc38-44f9-4d17-c45b-1e8d92dcd2c2"
      },
      "outputs": [
        {
          "output_type": "stream",
          "name": "stdout",
          "text": [
            "('James', 80)\n",
            "('Cathy', 85)\n",
            "('Gary', 90)\n",
            "('Kris', 95)\n",
            "('John', 99)\n"
          ]
        }
      ],
      "source": [
        "results = db.execute(\"select name, score from grades1 order by score\")\n",
        "for row in results:\n",
        "    print(row)"
      ]
    },
    {
      "cell_type": "code",
      "execution_count": null,
      "metadata": {
        "id": "Xt-wdmXNsUmT"
      },
      "outputs": [],
      "source": []
    }
  ],
  "metadata": {
    "kernelspec": {
      "display_name": "Python 3",
      "name": "python3"
    },
    "language_info": {
      "codemirror_mode": {
        "name": "ipython",
        "version": 3
      },
      "file_extension": ".py",
      "mimetype": "text/x-python",
      "name": "python",
      "nbconvert_exporter": "python",
      "pygments_lexer": "ipython3",
      "version": "3.7.7"
    },
    "colab": {
      "provenance": [],
      "gpuType": "T4"
    },
    "accelerator": "GPU"
  },
  "nbformat": 4,
  "nbformat_minor": 0
}